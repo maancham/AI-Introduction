{
 "cells": [
  {
   "cell_type": "markdown",
   "metadata": {},
   "source": [
    "# CA0 - Introduction to AI "
   ]
  },
  {
   "cell_type": "code",
   "execution_count": 1,
   "metadata": {},
   "outputs": [],
   "source": [
    "import numpy as np\n",
    "import pandas as pd\n",
    "import matplotlib.pyplot as plt\n",
    "import scipy.stats as stats\n",
    "from scipy.stats import norm\n",
    "import math\n",
    "import time"
   ]
  },
  {
   "cell_type": "markdown",
   "metadata": {},
   "source": [
    "## part 1\n",
    "1. head(): returns the first 5 rows of df.\n",
    "2. tall(): returns the last 5 rows of df.\n",
    "3. describe(): returns informations such as mean, min, std, and count about every columnn of data in df."
   ]
  },
  {
   "cell_type": "code",
   "execution_count": 2,
   "metadata": {},
   "outputs": [
    {
     "data": {
      "text/html": [
       "<div>\n",
       "<style scoped>\n",
       "    .dataframe tbody tr th:only-of-type {\n",
       "        vertical-align: middle;\n",
       "    }\n",
       "\n",
       "    .dataframe tbody tr th {\n",
       "        vertical-align: top;\n",
       "    }\n",
       "\n",
       "    .dataframe thead th {\n",
       "        text-align: right;\n",
       "    }\n",
       "</style>\n",
       "<table border=\"1\" class=\"dataframe\">\n",
       "  <thead>\n",
       "    <tr style=\"text-align: right;\">\n",
       "      <th></th>\n",
       "      <th>Daily Time Spent on Site</th>\n",
       "      <th>Age</th>\n",
       "      <th>Area Income</th>\n",
       "      <th>Daily Internet Usage</th>\n",
       "      <th>Ad Topic Line</th>\n",
       "      <th>City</th>\n",
       "      <th>Gender</th>\n",
       "      <th>Country</th>\n",
       "      <th>Timestamp</th>\n",
       "      <th>Clicked on Ad</th>\n",
       "    </tr>\n",
       "  </thead>\n",
       "  <tbody>\n",
       "    <tr>\n",
       "      <th>0</th>\n",
       "      <td>68.95</td>\n",
       "      <td>35.0</td>\n",
       "      <td>61833.90</td>\n",
       "      <td>256.09</td>\n",
       "      <td>Cloned 5thgeneration orchestration</td>\n",
       "      <td>Wrightburgh</td>\n",
       "      <td>Female</td>\n",
       "      <td>Tunisia</td>\n",
       "      <td>2016-03-27 00:53:11</td>\n",
       "      <td>0.0</td>\n",
       "    </tr>\n",
       "    <tr>\n",
       "      <th>1</th>\n",
       "      <td>80.23</td>\n",
       "      <td>31.0</td>\n",
       "      <td>68441.85</td>\n",
       "      <td>NaN</td>\n",
       "      <td>Monitored national standardization</td>\n",
       "      <td>West Jodi</td>\n",
       "      <td>Male</td>\n",
       "      <td>Nauru</td>\n",
       "      <td>2016-04-04 01:39:02</td>\n",
       "      <td>0.0</td>\n",
       "    </tr>\n",
       "    <tr>\n",
       "      <th>2</th>\n",
       "      <td>69.47</td>\n",
       "      <td>26.0</td>\n",
       "      <td>59785.94</td>\n",
       "      <td>236.50</td>\n",
       "      <td>Organic bottom-line service-desk</td>\n",
       "      <td>Davidton</td>\n",
       "      <td>Female</td>\n",
       "      <td>San Marino</td>\n",
       "      <td>2016-03-13 20:35:42</td>\n",
       "      <td>0.0</td>\n",
       "    </tr>\n",
       "    <tr>\n",
       "      <th>3</th>\n",
       "      <td>74.15</td>\n",
       "      <td>29.0</td>\n",
       "      <td>54806.18</td>\n",
       "      <td>245.89</td>\n",
       "      <td>Triple-buffered reciprocal time-frame</td>\n",
       "      <td>West Terrifurt</td>\n",
       "      <td>Male</td>\n",
       "      <td>Italy</td>\n",
       "      <td>2016-01-10 02:31:19</td>\n",
       "      <td>0.0</td>\n",
       "    </tr>\n",
       "    <tr>\n",
       "      <th>4</th>\n",
       "      <td>68.37</td>\n",
       "      <td>35.0</td>\n",
       "      <td>73889.99</td>\n",
       "      <td>225.58</td>\n",
       "      <td>Robust logistical utilization</td>\n",
       "      <td>South Manuel</td>\n",
       "      <td>Female</td>\n",
       "      <td>Iceland</td>\n",
       "      <td>2016-06-03 03:36:18</td>\n",
       "      <td>0.0</td>\n",
       "    </tr>\n",
       "    <tr>\n",
       "      <th>...</th>\n",
       "      <td>...</td>\n",
       "      <td>...</td>\n",
       "      <td>...</td>\n",
       "      <td>...</td>\n",
       "      <td>...</td>\n",
       "      <td>...</td>\n",
       "      <td>...</td>\n",
       "      <td>...</td>\n",
       "      <td>...</td>\n",
       "      <td>...</td>\n",
       "    </tr>\n",
       "    <tr>\n",
       "      <th>995</th>\n",
       "      <td>72.97</td>\n",
       "      <td>30.0</td>\n",
       "      <td>71384.57</td>\n",
       "      <td>208.58</td>\n",
       "      <td>Fundamental modular algorithm</td>\n",
       "      <td>Duffystad</td>\n",
       "      <td>Male</td>\n",
       "      <td>Lebanon</td>\n",
       "      <td>2016-02-11 21:49:00</td>\n",
       "      <td>1.0</td>\n",
       "    </tr>\n",
       "    <tr>\n",
       "      <th>996</th>\n",
       "      <td>51.30</td>\n",
       "      <td>45.0</td>\n",
       "      <td>67782.17</td>\n",
       "      <td>134.42</td>\n",
       "      <td>Grass-roots cohesive monitoring</td>\n",
       "      <td>New Darlene</td>\n",
       "      <td>Male</td>\n",
       "      <td>Bosnia and Herzegovina</td>\n",
       "      <td>2016-04-22 02:07:01</td>\n",
       "      <td>1.0</td>\n",
       "    </tr>\n",
       "    <tr>\n",
       "      <th>997</th>\n",
       "      <td>51.63</td>\n",
       "      <td>51.0</td>\n",
       "      <td>42415.72</td>\n",
       "      <td>120.37</td>\n",
       "      <td>Expanded intangible solution</td>\n",
       "      <td>South Jessica</td>\n",
       "      <td>Male</td>\n",
       "      <td>Mongolia</td>\n",
       "      <td>2016-02-01 17:24:57</td>\n",
       "      <td>1.0</td>\n",
       "    </tr>\n",
       "    <tr>\n",
       "      <th>998</th>\n",
       "      <td>55.55</td>\n",
       "      <td>19.0</td>\n",
       "      <td>41920.79</td>\n",
       "      <td>187.95</td>\n",
       "      <td>Proactive bandwidth-monitored policy</td>\n",
       "      <td>West Steven</td>\n",
       "      <td>Female</td>\n",
       "      <td>Guatemala</td>\n",
       "      <td>2016-03-24 02:35:54</td>\n",
       "      <td>0.0</td>\n",
       "    </tr>\n",
       "    <tr>\n",
       "      <th>999</th>\n",
       "      <td>NaN</td>\n",
       "      <td>26.0</td>\n",
       "      <td>29875.80</td>\n",
       "      <td>178.35</td>\n",
       "      <td>Virtual 5thgeneration emulation</td>\n",
       "      <td>Ronniemouth</td>\n",
       "      <td>Female</td>\n",
       "      <td>Brazil</td>\n",
       "      <td>2016-06-03 21:43:21</td>\n",
       "      <td>1.0</td>\n",
       "    </tr>\n",
       "  </tbody>\n",
       "</table>\n",
       "<p>1000 rows × 10 columns</p>\n",
       "</div>"
      ],
      "text/plain": [
       "     Daily Time Spent on Site   Age  Area Income  Daily Internet Usage  \\\n",
       "0                       68.95  35.0     61833.90                256.09   \n",
       "1                       80.23  31.0     68441.85                   NaN   \n",
       "2                       69.47  26.0     59785.94                236.50   \n",
       "3                       74.15  29.0     54806.18                245.89   \n",
       "4                       68.37  35.0     73889.99                225.58   \n",
       "..                        ...   ...          ...                   ...   \n",
       "995                     72.97  30.0     71384.57                208.58   \n",
       "996                     51.30  45.0     67782.17                134.42   \n",
       "997                     51.63  51.0     42415.72                120.37   \n",
       "998                     55.55  19.0     41920.79                187.95   \n",
       "999                       NaN  26.0     29875.80                178.35   \n",
       "\n",
       "                             Ad Topic Line            City  Gender  \\\n",
       "0       Cloned 5thgeneration orchestration     Wrightburgh  Female   \n",
       "1       Monitored national standardization       West Jodi    Male   \n",
       "2         Organic bottom-line service-desk        Davidton  Female   \n",
       "3    Triple-buffered reciprocal time-frame  West Terrifurt    Male   \n",
       "4            Robust logistical utilization    South Manuel  Female   \n",
       "..                                     ...             ...     ...   \n",
       "995          Fundamental modular algorithm       Duffystad    Male   \n",
       "996        Grass-roots cohesive monitoring     New Darlene    Male   \n",
       "997           Expanded intangible solution   South Jessica    Male   \n",
       "998   Proactive bandwidth-monitored policy     West Steven  Female   \n",
       "999        Virtual 5thgeneration emulation     Ronniemouth  Female   \n",
       "\n",
       "                    Country            Timestamp  Clicked on Ad  \n",
       "0                   Tunisia  2016-03-27 00:53:11            0.0  \n",
       "1                     Nauru  2016-04-04 01:39:02            0.0  \n",
       "2                San Marino  2016-03-13 20:35:42            0.0  \n",
       "3                     Italy  2016-01-10 02:31:19            0.0  \n",
       "4                   Iceland  2016-06-03 03:36:18            0.0  \n",
       "..                      ...                  ...            ...  \n",
       "995                 Lebanon  2016-02-11 21:49:00            1.0  \n",
       "996  Bosnia and Herzegovina  2016-04-22 02:07:01            1.0  \n",
       "997                Mongolia  2016-02-01 17:24:57            1.0  \n",
       "998               Guatemala  2016-03-24 02:35:54            0.0  \n",
       "999                  Brazil  2016-06-03 21:43:21            1.0  \n",
       "\n",
       "[1000 rows x 10 columns]"
      ]
     },
     "execution_count": 2,
     "metadata": {},
     "output_type": "execute_result"
    }
   ],
   "source": [
    "df = pd.read_csv('advertising_dataset.csv', index_col=0)\n",
    "df"
   ]
  },
  {
   "cell_type": "code",
   "execution_count": 3,
   "metadata": {},
   "outputs": [
    {
     "data": {
      "text/html": [
       "<div>\n",
       "<style scoped>\n",
       "    .dataframe tbody tr th:only-of-type {\n",
       "        vertical-align: middle;\n",
       "    }\n",
       "\n",
       "    .dataframe tbody tr th {\n",
       "        vertical-align: top;\n",
       "    }\n",
       "\n",
       "    .dataframe thead th {\n",
       "        text-align: right;\n",
       "    }\n",
       "</style>\n",
       "<table border=\"1\" class=\"dataframe\">\n",
       "  <thead>\n",
       "    <tr style=\"text-align: right;\">\n",
       "      <th></th>\n",
       "      <th>Daily Time Spent on Site</th>\n",
       "      <th>Age</th>\n",
       "      <th>Area Income</th>\n",
       "      <th>Daily Internet Usage</th>\n",
       "      <th>Ad Topic Line</th>\n",
       "      <th>City</th>\n",
       "      <th>Gender</th>\n",
       "      <th>Country</th>\n",
       "      <th>Timestamp</th>\n",
       "      <th>Clicked on Ad</th>\n",
       "    </tr>\n",
       "  </thead>\n",
       "  <tbody>\n",
       "    <tr>\n",
       "      <th>0</th>\n",
       "      <td>68.95</td>\n",
       "      <td>35.0</td>\n",
       "      <td>61833.90</td>\n",
       "      <td>256.09</td>\n",
       "      <td>Cloned 5thgeneration orchestration</td>\n",
       "      <td>Wrightburgh</td>\n",
       "      <td>Female</td>\n",
       "      <td>Tunisia</td>\n",
       "      <td>2016-03-27 00:53:11</td>\n",
       "      <td>0.0</td>\n",
       "    </tr>\n",
       "    <tr>\n",
       "      <th>1</th>\n",
       "      <td>80.23</td>\n",
       "      <td>31.0</td>\n",
       "      <td>68441.85</td>\n",
       "      <td>NaN</td>\n",
       "      <td>Monitored national standardization</td>\n",
       "      <td>West Jodi</td>\n",
       "      <td>Male</td>\n",
       "      <td>Nauru</td>\n",
       "      <td>2016-04-04 01:39:02</td>\n",
       "      <td>0.0</td>\n",
       "    </tr>\n",
       "    <tr>\n",
       "      <th>2</th>\n",
       "      <td>69.47</td>\n",
       "      <td>26.0</td>\n",
       "      <td>59785.94</td>\n",
       "      <td>236.50</td>\n",
       "      <td>Organic bottom-line service-desk</td>\n",
       "      <td>Davidton</td>\n",
       "      <td>Female</td>\n",
       "      <td>San Marino</td>\n",
       "      <td>2016-03-13 20:35:42</td>\n",
       "      <td>0.0</td>\n",
       "    </tr>\n",
       "    <tr>\n",
       "      <th>3</th>\n",
       "      <td>74.15</td>\n",
       "      <td>29.0</td>\n",
       "      <td>54806.18</td>\n",
       "      <td>245.89</td>\n",
       "      <td>Triple-buffered reciprocal time-frame</td>\n",
       "      <td>West Terrifurt</td>\n",
       "      <td>Male</td>\n",
       "      <td>Italy</td>\n",
       "      <td>2016-01-10 02:31:19</td>\n",
       "      <td>0.0</td>\n",
       "    </tr>\n",
       "    <tr>\n",
       "      <th>4</th>\n",
       "      <td>68.37</td>\n",
       "      <td>35.0</td>\n",
       "      <td>73889.99</td>\n",
       "      <td>225.58</td>\n",
       "      <td>Robust logistical utilization</td>\n",
       "      <td>South Manuel</td>\n",
       "      <td>Female</td>\n",
       "      <td>Iceland</td>\n",
       "      <td>2016-06-03 03:36:18</td>\n",
       "      <td>0.0</td>\n",
       "    </tr>\n",
       "  </tbody>\n",
       "</table>\n",
       "</div>"
      ],
      "text/plain": [
       "   Daily Time Spent on Site   Age  Area Income  Daily Internet Usage  \\\n",
       "0                     68.95  35.0     61833.90                256.09   \n",
       "1                     80.23  31.0     68441.85                   NaN   \n",
       "2                     69.47  26.0     59785.94                236.50   \n",
       "3                     74.15  29.0     54806.18                245.89   \n",
       "4                     68.37  35.0     73889.99                225.58   \n",
       "\n",
       "                           Ad Topic Line            City  Gender     Country  \\\n",
       "0     Cloned 5thgeneration orchestration     Wrightburgh  Female     Tunisia   \n",
       "1     Monitored national standardization       West Jodi    Male       Nauru   \n",
       "2       Organic bottom-line service-desk        Davidton  Female  San Marino   \n",
       "3  Triple-buffered reciprocal time-frame  West Terrifurt    Male       Italy   \n",
       "4          Robust logistical utilization    South Manuel  Female     Iceland   \n",
       "\n",
       "             Timestamp  Clicked on Ad  \n",
       "0  2016-03-27 00:53:11            0.0  \n",
       "1  2016-04-04 01:39:02            0.0  \n",
       "2  2016-03-13 20:35:42            0.0  \n",
       "3  2016-01-10 02:31:19            0.0  \n",
       "4  2016-06-03 03:36:18            0.0  "
      ]
     },
     "execution_count": 3,
     "metadata": {},
     "output_type": "execute_result"
    }
   ],
   "source": [
    "df.head()"
   ]
  },
  {
   "cell_type": "code",
   "execution_count": 4,
   "metadata": {},
   "outputs": [
    {
     "data": {
      "text/html": [
       "<div>\n",
       "<style scoped>\n",
       "    .dataframe tbody tr th:only-of-type {\n",
       "        vertical-align: middle;\n",
       "    }\n",
       "\n",
       "    .dataframe tbody tr th {\n",
       "        vertical-align: top;\n",
       "    }\n",
       "\n",
       "    .dataframe thead th {\n",
       "        text-align: right;\n",
       "    }\n",
       "</style>\n",
       "<table border=\"1\" class=\"dataframe\">\n",
       "  <thead>\n",
       "    <tr style=\"text-align: right;\">\n",
       "      <th></th>\n",
       "      <th>Daily Time Spent on Site</th>\n",
       "      <th>Age</th>\n",
       "      <th>Area Income</th>\n",
       "      <th>Daily Internet Usage</th>\n",
       "      <th>Ad Topic Line</th>\n",
       "      <th>City</th>\n",
       "      <th>Gender</th>\n",
       "      <th>Country</th>\n",
       "      <th>Timestamp</th>\n",
       "      <th>Clicked on Ad</th>\n",
       "    </tr>\n",
       "  </thead>\n",
       "  <tbody>\n",
       "    <tr>\n",
       "      <th>995</th>\n",
       "      <td>72.97</td>\n",
       "      <td>30.0</td>\n",
       "      <td>71384.57</td>\n",
       "      <td>208.58</td>\n",
       "      <td>Fundamental modular algorithm</td>\n",
       "      <td>Duffystad</td>\n",
       "      <td>Male</td>\n",
       "      <td>Lebanon</td>\n",
       "      <td>2016-02-11 21:49:00</td>\n",
       "      <td>1.0</td>\n",
       "    </tr>\n",
       "    <tr>\n",
       "      <th>996</th>\n",
       "      <td>51.30</td>\n",
       "      <td>45.0</td>\n",
       "      <td>67782.17</td>\n",
       "      <td>134.42</td>\n",
       "      <td>Grass-roots cohesive monitoring</td>\n",
       "      <td>New Darlene</td>\n",
       "      <td>Male</td>\n",
       "      <td>Bosnia and Herzegovina</td>\n",
       "      <td>2016-04-22 02:07:01</td>\n",
       "      <td>1.0</td>\n",
       "    </tr>\n",
       "    <tr>\n",
       "      <th>997</th>\n",
       "      <td>51.63</td>\n",
       "      <td>51.0</td>\n",
       "      <td>42415.72</td>\n",
       "      <td>120.37</td>\n",
       "      <td>Expanded intangible solution</td>\n",
       "      <td>South Jessica</td>\n",
       "      <td>Male</td>\n",
       "      <td>Mongolia</td>\n",
       "      <td>2016-02-01 17:24:57</td>\n",
       "      <td>1.0</td>\n",
       "    </tr>\n",
       "    <tr>\n",
       "      <th>998</th>\n",
       "      <td>55.55</td>\n",
       "      <td>19.0</td>\n",
       "      <td>41920.79</td>\n",
       "      <td>187.95</td>\n",
       "      <td>Proactive bandwidth-monitored policy</td>\n",
       "      <td>West Steven</td>\n",
       "      <td>Female</td>\n",
       "      <td>Guatemala</td>\n",
       "      <td>2016-03-24 02:35:54</td>\n",
       "      <td>0.0</td>\n",
       "    </tr>\n",
       "    <tr>\n",
       "      <th>999</th>\n",
       "      <td>NaN</td>\n",
       "      <td>26.0</td>\n",
       "      <td>29875.80</td>\n",
       "      <td>178.35</td>\n",
       "      <td>Virtual 5thgeneration emulation</td>\n",
       "      <td>Ronniemouth</td>\n",
       "      <td>Female</td>\n",
       "      <td>Brazil</td>\n",
       "      <td>2016-06-03 21:43:21</td>\n",
       "      <td>1.0</td>\n",
       "    </tr>\n",
       "  </tbody>\n",
       "</table>\n",
       "</div>"
      ],
      "text/plain": [
       "     Daily Time Spent on Site   Age  Area Income  Daily Internet Usage  \\\n",
       "995                     72.97  30.0     71384.57                208.58   \n",
       "996                     51.30  45.0     67782.17                134.42   \n",
       "997                     51.63  51.0     42415.72                120.37   \n",
       "998                     55.55  19.0     41920.79                187.95   \n",
       "999                       NaN  26.0     29875.80                178.35   \n",
       "\n",
       "                            Ad Topic Line           City  Gender  \\\n",
       "995         Fundamental modular algorithm      Duffystad    Male   \n",
       "996       Grass-roots cohesive monitoring    New Darlene    Male   \n",
       "997          Expanded intangible solution  South Jessica    Male   \n",
       "998  Proactive bandwidth-monitored policy    West Steven  Female   \n",
       "999       Virtual 5thgeneration emulation    Ronniemouth  Female   \n",
       "\n",
       "                    Country            Timestamp  Clicked on Ad  \n",
       "995                 Lebanon  2016-02-11 21:49:00            1.0  \n",
       "996  Bosnia and Herzegovina  2016-04-22 02:07:01            1.0  \n",
       "997                Mongolia  2016-02-01 17:24:57            1.0  \n",
       "998               Guatemala  2016-03-24 02:35:54            0.0  \n",
       "999                  Brazil  2016-06-03 21:43:21            1.0  "
      ]
     },
     "execution_count": 4,
     "metadata": {},
     "output_type": "execute_result"
    }
   ],
   "source": [
    "df.tail()"
   ]
  },
  {
   "cell_type": "code",
   "execution_count": 5,
   "metadata": {},
   "outputs": [
    {
     "data": {
      "text/html": [
       "<div>\n",
       "<style scoped>\n",
       "    .dataframe tbody tr th:only-of-type {\n",
       "        vertical-align: middle;\n",
       "    }\n",
       "\n",
       "    .dataframe tbody tr th {\n",
       "        vertical-align: top;\n",
       "    }\n",
       "\n",
       "    .dataframe thead th {\n",
       "        text-align: right;\n",
       "    }\n",
       "</style>\n",
       "<table border=\"1\" class=\"dataframe\">\n",
       "  <thead>\n",
       "    <tr style=\"text-align: right;\">\n",
       "      <th></th>\n",
       "      <th>Daily Time Spent on Site</th>\n",
       "      <th>Age</th>\n",
       "      <th>Area Income</th>\n",
       "      <th>Daily Internet Usage</th>\n",
       "      <th>Clicked on Ad</th>\n",
       "    </tr>\n",
       "  </thead>\n",
       "  <tbody>\n",
       "    <tr>\n",
       "      <th>count</th>\n",
       "      <td>907.000000</td>\n",
       "      <td>979.000000</td>\n",
       "      <td>1000.000000</td>\n",
       "      <td>913.000000</td>\n",
       "      <td>832.000000</td>\n",
       "    </tr>\n",
       "    <tr>\n",
       "      <th>mean</th>\n",
       "      <td>64.794818</td>\n",
       "      <td>36.009193</td>\n",
       "      <td>55000.000080</td>\n",
       "      <td>179.751271</td>\n",
       "      <td>0.496394</td>\n",
       "    </tr>\n",
       "    <tr>\n",
       "      <th>std</th>\n",
       "      <td>15.954841</td>\n",
       "      <td>8.783636</td>\n",
       "      <td>13414.634022</td>\n",
       "      <td>43.957934</td>\n",
       "      <td>0.500288</td>\n",
       "    </tr>\n",
       "    <tr>\n",
       "      <th>min</th>\n",
       "      <td>32.600000</td>\n",
       "      <td>19.000000</td>\n",
       "      <td>13996.500000</td>\n",
       "      <td>104.780000</td>\n",
       "      <td>0.000000</td>\n",
       "    </tr>\n",
       "    <tr>\n",
       "      <th>25%</th>\n",
       "      <td>50.615000</td>\n",
       "      <td>29.000000</td>\n",
       "      <td>47031.802500</td>\n",
       "      <td>138.550000</td>\n",
       "      <td>0.000000</td>\n",
       "    </tr>\n",
       "    <tr>\n",
       "      <th>50%</th>\n",
       "      <td>67.940000</td>\n",
       "      <td>35.000000</td>\n",
       "      <td>57012.300000</td>\n",
       "      <td>183.480000</td>\n",
       "      <td>0.000000</td>\n",
       "    </tr>\n",
       "    <tr>\n",
       "      <th>75%</th>\n",
       "      <td>78.555000</td>\n",
       "      <td>42.000000</td>\n",
       "      <td>65470.635000</td>\n",
       "      <td>217.850000</td>\n",
       "      <td>1.000000</td>\n",
       "    </tr>\n",
       "    <tr>\n",
       "      <th>max</th>\n",
       "      <td>91.430000</td>\n",
       "      <td>61.000000</td>\n",
       "      <td>79484.800000</td>\n",
       "      <td>269.960000</td>\n",
       "      <td>1.000000</td>\n",
       "    </tr>\n",
       "  </tbody>\n",
       "</table>\n",
       "</div>"
      ],
      "text/plain": [
       "       Daily Time Spent on Site         Age   Area Income  \\\n",
       "count                907.000000  979.000000   1000.000000   \n",
       "mean                  64.794818   36.009193  55000.000080   \n",
       "std                   15.954841    8.783636  13414.634022   \n",
       "min                   32.600000   19.000000  13996.500000   \n",
       "25%                   50.615000   29.000000  47031.802500   \n",
       "50%                   67.940000   35.000000  57012.300000   \n",
       "75%                   78.555000   42.000000  65470.635000   \n",
       "max                   91.430000   61.000000  79484.800000   \n",
       "\n",
       "       Daily Internet Usage  Clicked on Ad  \n",
       "count            913.000000     832.000000  \n",
       "mean             179.751271       0.496394  \n",
       "std               43.957934       0.500288  \n",
       "min              104.780000       0.000000  \n",
       "25%              138.550000       0.000000  \n",
       "50%              183.480000       0.000000  \n",
       "75%              217.850000       1.000000  \n",
       "max              269.960000       1.000000  "
      ]
     },
     "execution_count": 5,
     "metadata": {},
     "output_type": "execute_result"
    }
   ],
   "source": [
    "df.describe()"
   ]
  },
  {
   "cell_type": "markdown",
   "metadata": {},
   "source": [
    "## part 2\n",
    "1. info(): returns the number of not-null values and data type of each column."
   ]
  },
  {
   "cell_type": "code",
   "execution_count": 6,
   "metadata": {},
   "outputs": [
    {
     "name": "stdout",
     "output_type": "stream",
     "text": [
      "<class 'pandas.core.frame.DataFrame'>\n",
      "Int64Index: 1000 entries, 0 to 999\n",
      "Data columns (total 10 columns):\n",
      " #   Column                    Non-Null Count  Dtype  \n",
      "---  ------                    --------------  -----  \n",
      " 0   Daily Time Spent on Site  907 non-null    float64\n",
      " 1   Age                       979 non-null    float64\n",
      " 2   Area Income               1000 non-null   float64\n",
      " 3   Daily Internet Usage      913 non-null    float64\n",
      " 4   Ad Topic Line             1000 non-null   object \n",
      " 5   City                      1000 non-null   object \n",
      " 6   Gender                    1000 non-null   object \n",
      " 7   Country                   1000 non-null   object \n",
      " 8   Timestamp                 1000 non-null   object \n",
      " 9   Clicked on Ad             832 non-null    float64\n",
      "dtypes: float64(5), object(5)\n",
      "memory usage: 85.9+ KB\n"
     ]
    }
   ],
   "source": [
    "df.info()"
   ]
  },
  {
   "cell_type": "markdown",
   "metadata": {},
   "source": [
    "## part 2_1\n",
    "1. map(): Map values of Series according to input correspondence, used for substituting each value in a Series with another value, that may be derived from a function, a dict or a Series."
   ]
  },
  {
   "cell_type": "code",
   "execution_count": 7,
   "metadata": {},
   "outputs": [],
   "source": [
    "df['Gender'] = df['Gender'].map({'Female': 0, 'Male': 1})"
   ]
  },
  {
   "cell_type": "markdown",
   "metadata": {},
   "source": [
    "## part 3\n",
    "1.isna(): returns a boolean result which shows if each element is NaN or not. Combined with sum() function, this method will be applied to the whole Series/Dataframe and return count of NaN values encountered\n",
    "\n",
    "#### Alternate Method of fill:\n",
    "2.ffill(): When ffill() is applied across the index then any missing value is filled based on the corresponding value in the previous row."
   ]
  },
  {
   "cell_type": "code",
   "execution_count": 8,
   "metadata": {},
   "outputs": [
    {
     "name": "stdout",
     "output_type": "stream",
     "text": [
      "Daily Time Spent on Site :  93\n",
      "Age :  21\n",
      "Area Income :  0\n",
      "Daily Internet Usage :  87\n",
      "Ad Topic Line :  0\n",
      "City :  0\n",
      "Gender :  0\n",
      "Country :  0\n",
      "Timestamp :  0\n",
      "Clicked on Ad :  168\n",
      "######### Result after filling NaN values: #########\n",
      "Ad Topic Line :  0\n",
      "Age :  0\n",
      "Area Income :  0\n",
      "City :  0\n",
      "Country :  0\n",
      "Daily Internet Usage :  0\n",
      "Daily Time Spent on Site :  0\n",
      "Gender :  0\n",
      "Timestamp :  0\n",
      "Clicked on Ad :  168\n"
     ]
    }
   ],
   "source": [
    "for i in df.columns:\n",
    "    print(i, ': ', df[i].isna().sum())\n",
    "target_column = df['Clicked on Ad']\n",
    "df = df.loc[:, df.columns.difference(['Clicked on Ad'])].fillna(df.mean())\n",
    "df['Clicked on Ad'] = target_column\n",
    "print(\"######### Result after filling NaN values: #########\")\n",
    "for i in df.columns:\n",
    "    print(i, ': ', df[i].isna().sum())"
   ]
  },
  {
   "cell_type": "markdown",
   "metadata": {},
   "source": [
    "## part 4\n",
    "1.value_counts(): Return a Series containing counts of unique values. Can also be applied on Dataframes."
   ]
  },
  {
   "cell_type": "code",
   "execution_count": 9,
   "metadata": {},
   "outputs": [
    {
     "name": "stdout",
     "output_type": "stream",
     "text": [
      "Number of Females:  519\n",
      "Number of Males:  481\n",
      "Number of Total Clicks:  413\n",
      "Number of Total No-Clicks:  419\n"
     ]
    }
   ],
   "source": [
    "print('Number of Females: ', df['Gender'].value_counts()[0])\n",
    "print('Number of Males: ', df['Gender'].value_counts()[1])\n",
    "print('Number of Total Clicks: ', df['Clicked on Ad'].value_counts()[1])\n",
    "print('Number of Total No-Clicks: ', df['Clicked on Ad'].value_counts()[0])"
   ]
  },
  {
   "cell_type": "markdown",
   "metadata": {},
   "source": [
    "## part 5\n",
    "1.index():Immutable ndarray implementing an ordered, sliceable set. The basic object storing axis labels for all pandas objects.\n",
    "\n",
    "2.len(): Return Number of Present elements in a list. Used to count number of rows where applied on Dataframe.index"
   ]
  },
  {
   "cell_type": "code",
   "execution_count": 10,
   "metadata": {},
   "outputs": [
    {
     "data": {
      "text/plain": [
       "468"
      ]
     },
     "execution_count": 10,
     "metadata": {},
     "output_type": "execute_result"
    }
   ],
   "source": [
    "len(df[(df['Age'] > 21) & (df['Gender'] == 1)].index)"
   ]
  },
  {
   "cell_type": "markdown",
   "metadata": {},
   "source": [
    "## part 6\n",
    "1.There are two ways to access a specific column from dataframe: First one is **df['column_name']** and Second one is to use **df.column_name**    \n",
    "\n",
    "2.mean(): When called upon a dataframe/series it will calculate mean of the (numeric) values present in dataframe/series. Note that this method is part of Vectorization functions"
   ]
  },
  {
   "cell_type": "code",
   "execution_count": 11,
   "metadata": {},
   "outputs": [
    {
     "name": "stdout",
     "output_type": "stream",
     "text": [
      "Avg Age for Clickers:  40.295599848637366\n",
      "Avg Age for Non-Clickers:  31.723325881701896\n",
      "Timing For Vectorization: 4.992008 ms\n"
     ]
    }
   ],
   "source": [
    "tic = time.time()\n",
    "temp_info = df.groupby(df['Clicked on Ad']).mean()\n",
    "print(\"Avg Age for Clickers: \", temp_info['Age'][1])\n",
    "print(\"Avg Age for Non-Clickers: \", temp_info['Age'][0])\n",
    "toc = time.time()\n",
    "print(\"Timing For Vectorization: %f ms\" % ((toc - tic) * 1000))"
   ]
  },
  {
   "cell_type": "markdown",
   "metadata": {},
   "source": [
    "## part 7\n",
    "As we can see, using loops to do the job will result in a significant time loss. About 20X more time needed."
   ]
  },
  {
   "cell_type": "code",
   "execution_count": 12,
   "metadata": {},
   "outputs": [
    {
     "name": "stdout",
     "output_type": "stream",
     "text": [
      "Avg Age for Clickers:  40.295599848637366\n",
      "Avg Age for Non-Clickers:  31.723325881701896\n",
      "Timing For Vectorization: 130.671740 ms\n"
     ]
    }
   ],
   "source": [
    "tic = time.time()\n",
    "clicked_sum = 0\n",
    "clicked_count = 0\n",
    "nonclicked_sum = 0\n",
    "nonclicked_count = 0\n",
    "for index, row in df.iterrows():\n",
    "    if (row['Clicked on Ad'] == 1):\n",
    "        clicked_sum += row['Age']\n",
    "        clicked_count += 1\n",
    "    elif (row['Clicked on Ad'] == 0):\n",
    "        nonclicked_sum += row['Age']\n",
    "        nonclicked_count += 1\n",
    "print(\"Avg Age for Clickers: \", clicked_sum / clicked_count)\n",
    "print(\"Avg Age for Non-Clickers: \", nonclicked_sum / nonclicked_count)\n",
    "\n",
    "toc = time.time()\n",
    "print(\"Timing For Vectorization: %f ms\" % ((toc - tic) * 1000))"
   ]
  },
  {
   "cell_type": "markdown",
   "metadata": {},
   "source": [
    "## part 8\n",
    "1.hist(): A histogram is a representation of the distribution of data. This function calls matplotlib.pyplot.hist(), on each series in the DataFrame, resulting in one histogram per column. The size in inches of the figure to create is represented by figsize argument."
   ]
  },
  {
   "cell_type": "code",
   "execution_count": 13,
   "metadata": {},
   "outputs": [
    {
     "data": {
      "text/plain": [
       "array([[<AxesSubplot:title={'center':'Age'}>,\n",
       "        <AxesSubplot:title={'center':'Area Income'}>],\n",
       "       [<AxesSubplot:title={'center':'Daily Internet Usage'}>,\n",
       "        <AxesSubplot:title={'center':'Daily Time Spent on Site'}>],\n",
       "       [<AxesSubplot:title={'center':'Gender'}>,\n",
       "        <AxesSubplot:title={'center':'Clicked on Ad'}>]], dtype=object)"
      ]
     },
     "execution_count": 13,
     "metadata": {},
     "output_type": "execute_result"
    },
    {
     "data": {
      "image/png": "[encoded data removed]",
      "text/plain": [
       "<Figure size 1080x720 with 6 Axes>"
      ]
     },
     "metadata": {
      "needs_background": "light"
     },
     "output_type": "display_data"
    }
   ],
   "source": [
    "df.hist(figsize = (15, 10))"
   ]
  },
  {
   "cell_type": "markdown",
   "metadata": {},
   "source": [
    "## part 9\n",
    "1.The SettingWithCopyWarning was created to flag potentially confusing \"chained\" assignments. So we tell pandas to ignore out false positive warning using pd.options.\n",
    "\n",
    "2.By using mean() and std() on columns we use the built in function of Pandas on Series.\n",
    "\n",
    "3.apply(): Used to apply a function to all the elements. Here the function is the normalizing of the values."
   ]
  },
  {
   "cell_type": "code",
   "execution_count": 14,
   "metadata": {},
   "outputs": [
    {
     "data": {
      "text/html": [
       "<div>\n",
       "<style scoped>\n",
       "    .dataframe tbody tr th:only-of-type {\n",
       "        vertical-align: middle;\n",
       "    }\n",
       "\n",
       "    .dataframe tbody tr th {\n",
       "        vertical-align: top;\n",
       "    }\n",
       "\n",
       "    .dataframe thead th {\n",
       "        text-align: right;\n",
       "    }\n",
       "</style>\n",
       "<table border=\"1\" class=\"dataframe\">\n",
       "  <thead>\n",
       "    <tr style=\"text-align: right;\">\n",
       "      <th></th>\n",
       "      <th>Daily Time Spent on Site</th>\n",
       "      <th>Age</th>\n",
       "      <th>Area Income</th>\n",
       "      <th>Daily Internet Usage</th>\n",
       "      <th>Clicked on Ad</th>\n",
       "    </tr>\n",
       "  </thead>\n",
       "  <tbody>\n",
       "    <tr>\n",
       "      <th>0</th>\n",
       "      <td>0.273474</td>\n",
       "      <td>-0.116122</td>\n",
       "      <td>0.509436</td>\n",
       "      <td>1.817578</td>\n",
       "      <td>-0.992217</td>\n",
       "    </tr>\n",
       "    <tr>\n",
       "      <th>1</th>\n",
       "      <td>1.015870</td>\n",
       "      <td>-0.576377</td>\n",
       "      <td>1.002029</td>\n",
       "      <td>0.000000</td>\n",
       "      <td>-0.992217</td>\n",
       "    </tr>\n",
       "    <tr>\n",
       "      <th>2</th>\n",
       "      <td>0.307698</td>\n",
       "      <td>-1.151696</td>\n",
       "      <td>0.356770</td>\n",
       "      <td>1.351152</td>\n",
       "      <td>-0.992217</td>\n",
       "    </tr>\n",
       "    <tr>\n",
       "      <th>3</th>\n",
       "      <td>0.615713</td>\n",
       "      <td>-0.806505</td>\n",
       "      <td>-0.014448</td>\n",
       "      <td>1.574722</td>\n",
       "      <td>-0.992217</td>\n",
       "    </tr>\n",
       "    <tr>\n",
       "      <th>4</th>\n",
       "      <td>0.235301</td>\n",
       "      <td>-0.116122</td>\n",
       "      <td>1.408163</td>\n",
       "      <td>1.091154</td>\n",
       "      <td>-0.992217</td>\n",
       "    </tr>\n",
       "    <tr>\n",
       "      <th>...</th>\n",
       "      <td>...</td>\n",
       "      <td>...</td>\n",
       "      <td>...</td>\n",
       "      <td>...</td>\n",
       "      <td>...</td>\n",
       "    </tr>\n",
       "    <tr>\n",
       "      <th>995</th>\n",
       "      <td>0.538051</td>\n",
       "      <td>-0.691441</td>\n",
       "      <td>1.221395</td>\n",
       "      <td>0.686394</td>\n",
       "      <td>1.006632</td>\n",
       "    </tr>\n",
       "    <tr>\n",
       "      <th>996</th>\n",
       "      <td>-0.888164</td>\n",
       "      <td>1.034517</td>\n",
       "      <td>0.952853</td>\n",
       "      <td>-1.079309</td>\n",
       "      <td>1.006632</td>\n",
       "    </tr>\n",
       "    <tr>\n",
       "      <th>997</th>\n",
       "      <td>-0.866445</td>\n",
       "      <td>1.724900</td>\n",
       "      <td>-0.938101</td>\n",
       "      <td>-1.413831</td>\n",
       "      <td>1.006632</td>\n",
       "    </tr>\n",
       "    <tr>\n",
       "      <th>998</th>\n",
       "      <td>-0.608450</td>\n",
       "      <td>-1.957144</td>\n",
       "      <td>-0.974996</td>\n",
       "      <td>0.195207</td>\n",
       "      <td>-0.992217</td>\n",
       "    </tr>\n",
       "    <tr>\n",
       "      <th>999</th>\n",
       "      <td>0.000000</td>\n",
       "      <td>-1.151696</td>\n",
       "      <td>-1.872895</td>\n",
       "      <td>-0.033363</td>\n",
       "      <td>1.006632</td>\n",
       "    </tr>\n",
       "  </tbody>\n",
       "</table>\n",
       "<p>1000 rows × 5 columns</p>\n",
       "</div>"
      ],
      "text/plain": [
       "     Daily Time Spent on Site       Age  Area Income  Daily Internet Usage  \\\n",
       "0                    0.273474 -0.116122     0.509436              1.817578   \n",
       "1                    1.015870 -0.576377     1.002029              0.000000   \n",
       "2                    0.307698 -1.151696     0.356770              1.351152   \n",
       "3                    0.615713 -0.806505    -0.014448              1.574722   \n",
       "4                    0.235301 -0.116122     1.408163              1.091154   \n",
       "..                        ...       ...          ...                   ...   \n",
       "995                  0.538051 -0.691441     1.221395              0.686394   \n",
       "996                 -0.888164  1.034517     0.952853             -1.079309   \n",
       "997                 -0.866445  1.724900    -0.938101             -1.413831   \n",
       "998                 -0.608450 -1.957144    -0.974996              0.195207   \n",
       "999                  0.000000 -1.151696    -1.872895             -0.033363   \n",
       "\n",
       "     Clicked on Ad  \n",
       "0        -0.992217  \n",
       "1        -0.992217  \n",
       "2        -0.992217  \n",
       "3        -0.992217  \n",
       "4        -0.992217  \n",
       "..             ...  \n",
       "995       1.006632  \n",
       "996       1.006632  \n",
       "997       1.006632  \n",
       "998      -0.992217  \n",
       "999       1.006632  \n",
       "\n",
       "[1000 rows x 5 columns]"
      ]
     },
     "execution_count": 14,
     "metadata": {},
     "output_type": "execute_result"
    }
   ],
   "source": [
    "pd.options.mode.chained_assignment = None\n",
    "new_df = df[['Daily Time Spent on Site', 'Age', 'Area Income', 'Daily Internet Usage', 'Clicked on Ad']]\n",
    "for i in new_df.columns:\n",
    "    col_mean = new_df[i].mean()\n",
    "    col_std = new_df[i].std()\n",
    "    new_df[i] = new_df[i].apply(lambda x: ((x - col_mean) / col_std))\n",
    "\n",
    "new_df"
   ]
  },
  {
   "cell_type": "markdown",
   "metadata": {},
   "source": [
    "## part 10\n",
    "It seems that Daily Internet Usage is the best feature to use for prediction since two line plots representing clicked,not clicked are more distinguishable than in other plots. Also when we take a look at the corespinding plot, it's obvoius that two line plots are converging on (0, 0.32). So using this point, we map each user based on the positivity of it's normalized daily usage value."
   ]
  },
  {
   "cell_type": "code",
   "execution_count": 15,
   "metadata": {
    "scrolled": true
   },
   "outputs": [
    {
     "data": {
      "image/png": "[encoded data removed]",
      "text/plain": [
       "<Figure size 432x288 with 1 Axes>"
      ]
     },
     "metadata": {
      "needs_background": "light"
     },
     "output_type": "display_data"
    },
    {
     "data": {
      "image/png": "[encoded data removed]",
      "text/plain": [
       "<Figure size 432x288 with 1 Axes>"
      ]
     },
     "metadata": {
      "needs_background": "light"
     },
     "output_type": "display_data"
    },
    {
     "data": {
      "image/png": "[encoded data removed]",
      "text/plain": [
       "<Figure size 432x288 with 1 Axes>"
      ]
     },
     "metadata": {
      "needs_background": "light"
     },
     "output_type": "display_data"
    },
    {
     "data": {
      "image/png": "[encoded data removed]",
      "text/plain": [
       "<Figure size 432x288 with 1 Axes>"
      ]
     },
     "metadata": {
      "needs_background": "light"
     },
     "output_type": "display_data"
    }
   ],
   "source": [
    "clicked_df = new_df[new_df['Clicked on Ad'] > 1]\n",
    "nonclicked_df = new_df[new_df['Clicked on Ad'] < 1]\n",
    "\n",
    "feature_list = new_df.columns.tolist()[:-1]\n",
    "\n",
    "for i in range(4):\n",
    "    clicked_df = clicked_df.sort_values(by =feature_list[i] , ascending=True)\n",
    "    nonclicked_df = nonclicked_df.sort_values(by =feature_list[i] , ascending=True)\n",
    "    plt.plot(clicked_df[feature_list[i]], stats.norm.pdf(clicked_df[feature_list[i]], clicked_df.describe()[feature_list[i]]['mean'], \n",
    "                                              math.sqrt(clicked_df.describe()[feature_list[i]]['std'])), color='b', label=\"Clicked\")\n",
    "    plt.plot(nonclicked_df[feature_list[i]], stats.norm.pdf(nonclicked_df[feature_list[i]], nonclicked_df.describe()[feature_list[i]]['mean'],\n",
    "                                                 math.sqrt(nonclicked_df.describe()[feature_list[i]]['std'])), color='r', label=\"Non-Clicked\")\n",
    "    plt.title('Normal Dist for: ' + feature_list[i] ,fontsize=10)\n",
    "    plt.ylabel('Normal Distribution')\n",
    "    plt.grid()\n",
    "    plt.legend()\n",
    "    plt.show()"
   ]
  },
  {
   "cell_type": "markdown",
   "metadata": {},
   "source": [
    "## part 11"
   ]
  },
  {
   "cell_type": "code",
   "execution_count": 16,
   "metadata": {},
   "outputs": [],
   "source": [
    "to_predict = new_df[new_df['Clicked on Ad'].isnull()]\n",
    "to_predict['Clicked on Ad'] = np.where(to_predict['Daily Internet Usage'] > 0, 0, 1)\n",
    "output = to_predict[['Clicked on Ad']]\n",
    "output.to_csv('prediction_result.csv')"
   ]
  }
 ],
 "metadata": {
  "kernelspec": {
   "display_name": "Python 3",
   "language": "python",
   "name": "python3"
  },
  "language_info": {
   "codemirror_mode": {
    "name": "ipython",
    "version": 3
   },
   "file_extension": ".py",
   "mimetype": "text/x-python",
   "name": "python",
   "nbconvert_exporter": "python",
   "pygments_lexer": "ipython3",
   "version": "3.7.6"
  }
 },
 "nbformat": 4,
 "nbformat_minor": 4
}
