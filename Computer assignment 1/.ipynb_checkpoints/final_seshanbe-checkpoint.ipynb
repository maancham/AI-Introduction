{
 "cells": [
  {
   "cell_type": "markdown",
   "metadata": {},
   "source": [
    "# AI CA1\n",
    "## Informed and Uninformed Search\n",
    "### Houmch - 810196443"
   ]
  },
  {
   "cell_type": "markdown",
   "metadata": {},
   "source": [
    "<br>\n",
    "<h1 style = \"text-align: center\">Prelude</h1>\n",
    "<br>\n",
    "<h2>Definition of project:</h2>\n",
    "<p>There is a game (2D table) with these entities : Candy and Snake. There are some candies \n",
    "scattered around the map. Each candy has got it's own capacity whichk can be 1 or 2. There's one snake in map. Said snake will start the game at (0,0) and gets increased in size every time it eats a candy. Game if finished when there are no more candies available on the map.</p>\n",
    "</div>\n",
    "<br>\n",
    "<h2>Solutions:</h2>\n",
    "<h3>Uninformed searches: </h3>\n",
    "<br>\n",
    "<p>BFS: Breadth First Search<br>IDS(Iterative Deepening Search)</p>\n",
    "<br>\n",
    "<h3>Informed searches: </h3>\n",
    "<br>\n",
    "<p>Heuristic solutions: in order to have optimal solution we must use heuristics which are admissible (and at least one of them should be consistent for graph searches)\n",
    "Also we will perfom a weighted heuristic with two alpha values in order to see if there's room for optimization</p>\n",
    "<br>\n",
    "<h2>Simple comparison:</h2>\n",
    "<div style = \"align-items : center; margin-top: 10px\">\n",
    "<img src = \"img2.png\">\n",
    "</div>"
   ]
  },
  {
   "cell_type": "markdown",
   "metadata": {},
   "source": [
    "<br>\n",
    "<h1 style= \"text-align: center\"> Prerequisites </h1>\n",
    "<br>\n",
    "<h3> 1. Reading inputs from files: </h3>\n",
    "<p> Every input is a .txt file which contains coordinates of game elements</p>"
   ]
  },
  {
   "cell_type": "code",
   "execution_count": 2,
   "metadata": {},
   "outputs": [],
   "source": [
    "def read_file(file_name):\n",
    "    file = open(file_name, 'r+')\n",
    "    f_list = [line.rstrip().split(',') for line in file]\n",
    "    file.close()\n",
    "    return f_list"
   ]
  },
  {
   "cell_type": "markdown",
   "metadata": {},
   "source": [
    "## Classes used in the project"
   ]
  },
  {
   "cell_type": "code",
   "execution_count": 3,
   "metadata": {},
   "outputs": [],
   "source": [
    "class Block:\n",
    "    def __init__(self, x, y):\n",
    "        self.x = x\n",
    "        self.y = y\n",
    "        \n",
    "    def __hash__(self):\n",
    "        return hash((self.x, self.y))\n",
    "    \n",
    "    ## change this function:\n",
    "    def distance_to(self, other):\n",
    "        return abs(self.x - other.x) + abs(self.y - other.y)"
   ]
  },
  {
   "cell_type": "code",
   "execution_count": 4,
   "metadata": {},
   "outputs": [],
   "source": [
    "class Candy:\n",
    "    def __init__(self, x, y, obj_type, capacity):\n",
    "        self.capacity = capacity\n",
    "        self.obj_type = obj_type\n",
    "        self.coords = Block(x,y)\n",
    "    \n",
    "    def eat_one():\n",
    "        self.capacity = self.capacity - 1\n",
    "    \n",
    "    def __hash__(self):\n",
    "        return hash((self.coords, self.capacity))"
   ]
  },
  {
   "cell_type": "code",
   "execution_count": 5,
   "metadata": {},
   "outputs": [],
   "source": [
    "class Snake:\n",
    "    def __init__(self, head_x, head_y, body = []):\n",
    "        self.head = Block(head_x, head_y)\n",
    "        self.body = body\n",
    "        self.ate = False\n",
    "    \n",
    "    \n",
    "    ##modify this function:\n",
    "    def __hash__(self):\n",
    "        return hash((self.head, hash(frozenset([block for block in self.body]))))\n",
    "    \n",
    "    def predict_place(self, direction):\n",
    "        cur_x, cur_y = self.head.x, self.head.y\n",
    "        future_x = 0\n",
    "        future_y = 0\n",
    "        if (direction == 'L'):\n",
    "            future_x = cur_x\n",
    "            if (cur_y == 0):\n",
    "                future_y = my_map.length - 1\n",
    "            else:\n",
    "                future_y = cur_y - 1\n",
    "        if (direction == 'R'):\n",
    "            future_x = cur_x\n",
    "            if (cur_y == (my_map.length - 1)):\n",
    "                future_y = 0\n",
    "            else:\n",
    "                future_y = cur_y + 1\n",
    "        if (direction == 'U'):\n",
    "            future_y = cur_y\n",
    "            if (cur_x == 0):\n",
    "                future_x = my_map.width - 1\n",
    "            else:\n",
    "                future_x = cur_x - 1\n",
    "        if (direction == 'D'):\n",
    "            future_y = cur_y\n",
    "            if (cur_x == (my_map.width - 1)):\n",
    "                future_x = 0\n",
    "            else:\n",
    "                future_x = cur_x + 1\n",
    "        return Block(future_x, future_y)\n",
    "            \n",
    "            \n",
    "    def check_equal(self, x1, y1, x2, y2):\n",
    "        if (x1 == x2):\n",
    "            if (y1 == y2):\n",
    "                return True\n",
    "        return False\n",
    "    \n",
    "    \n",
    "    def check_circumstance(self, direction):\n",
    "        new_unit = self.predict_place(direction)\n",
    "        flag = 0\n",
    "        if (len(self.body) != 1):\n",
    "            for j in range(len(self.body) - 1):\n",
    "                xprime = self.body[j].x\n",
    "                yprime = self.body[j].y\n",
    "                if (self.check_equal(xprime, yprime, new_unit.x, new_unit.y)):\n",
    "                    flag = 1\n",
    "        elif (len(self.body) == 1):\n",
    "            xprime = self.body[0].x\n",
    "            yprime = self.body[0].y\n",
    "            if (self.check_equal(xprime, yprime, new_unit.x, new_unit.y)):\n",
    "                flag = 1\n",
    "        if (flag):\n",
    "            return None\n",
    "        else:\n",
    "            return new_unit\n",
    "    \n",
    "    def copy_body(self):\n",
    "        temp = []\n",
    "        for i in self.body:\n",
    "            temp.append(Block(i.x, i.y))\n",
    "        return temp\n",
    "    \n",
    "    \n",
    "    def make_copy(self, candies, new_unit):\n",
    "        candy_copy = set()\n",
    "        for candy in candies:\n",
    "            new_candy = Candy(candy.coords.x, candy.coords.y, 'c', candy.capacity)\n",
    "            candy_copy.add(new_candy)\n",
    "        flag = 0\n",
    "        for candy in candy_copy:\n",
    "            if candy.coords.x == new_unit.x and candy.coords.y == new_unit.y:\n",
    "                if(candy.capacity != 2):\n",
    "                    candy_copy.remove(candy)\n",
    "                else:\n",
    "                    candy.capacity = candy.capacity - 1\n",
    "                self.ate = True\n",
    "                break\n",
    "        \n",
    "        return candy_copy\n",
    "    \n",
    "    \n",
    "    def change_snake(self, direction, candies, new_unit):\n",
    "        \n",
    "        future_body = self.copy_body()\n",
    "        future_snake = Snake(self.head.x, self.head.y, future_body)\n",
    "        future_snake.head = new_unit\n",
    "        \n",
    "        new_candies = self.make_copy(candies, new_unit)\n",
    "        \n",
    "        future_snake.body.insert(0, self.head)\n",
    "        \n",
    "        \n",
    "        if (self.ate == False):\n",
    "            if len(future_snake.body) != 0:\n",
    "                future_snake.body.pop()\n",
    "        \n",
    "        self.ate = False\n",
    "        return future_snake, new_candies"
   ]
  },
  {
   "cell_type": "markdown",
   "metadata": {},
   "source": [
    "### 6 - Node\n",
    "This class is to show the path that is taken to reach the answer."
   ]
  },
  {
   "cell_type": "code",
   "execution_count": 6,
   "metadata": {},
   "outputs": [],
   "source": [
    "class Game:\n",
    "    def __init__(self, snake, candies, parent, path):\n",
    "        self.snake = snake\n",
    "        self.candies = candies\n",
    "        self.parent = parent\n",
    "        self.path_len = len(path)\n",
    "        self.path = path\n",
    "    \n",
    "    def generate_scions(self):\n",
    "        child_snakes, child_candies , moves = self.get_scions()\n",
    "        new_nodes = []\n",
    "        for i in range(len(child_snakes)):\n",
    "            new_nodes.append(Game(child_snakes[i], child_candies[i], self, self.path + moves[i]))\n",
    "        return new_nodes\n",
    "    \n",
    "    def check_final(self):\n",
    "        if len(self.candies) == 0:\n",
    "            return True\n",
    "        return False\n",
    "    \n",
    "    def simple_hash(self):\n",
    "        return(hash((self.snake, hash(frozenset(self.candies)))))\n",
    "    \n",
    "    def complex_hash(self):\n",
    "        return(hash((self.snake, self.path_len, hash(frozenset(self.candies)))))\n",
    "    \n",
    "    def get_scions(self):\n",
    "        next_snakes = []\n",
    "        next_candies = []\n",
    "        move = []\n",
    "        \n",
    "        r_result = self.snake.check_circumstance('R')\n",
    "        if (r_result != None):\n",
    "            new_snake, new_candies = self.snake.change_snake('R', self.candies, r_result)\n",
    "            next_snakes.append(new_snake)\n",
    "            next_candies.append(new_candies)\n",
    "            move.append('R')\n",
    "        \n",
    "        l_result = self.snake.check_circumstance('L')\n",
    "        if (l_result != None):\n",
    "            new_snake, new_candies = self.snake.change_snake('L', self.candies, l_result)\n",
    "            next_snakes.append(new_snake)\n",
    "            next_candies.append(new_candies)\n",
    "            move.append('L')\n",
    "        \n",
    "        u_result = self.snake.check_circumstance('U')\n",
    "        if (u_result != None):\n",
    "            new_snake, new_candies = self.snake.change_snake('U', self.candies, u_result)\n",
    "            next_snakes.append(new_snake)\n",
    "            next_candies.append(new_candies)\n",
    "            move.append('U')\n",
    "        \n",
    "        d_result = self.snake.check_circumstance('D')\n",
    "        if (d_result != None):\n",
    "            new_snake, new_candies = self.snake.change_snake('D', self.candies, d_result)\n",
    "            next_snakes.append(new_snake)\n",
    "            next_candies.append(new_candies)\n",
    "            move.append('D')\n",
    "        \n",
    "        return (next_snakes, next_candies, move)\n",
    "    \n",
    "    \n",
    "    def __lt__(self, other):\n",
    "        return self.f() < other.f()\n",
    "    \n",
    "    def h(self):\n",
    "        return len(self.state.candies)\n",
    "    \n",
    "    \n",
    "    def g(self):\n",
    "        return self.path_cost\n",
    "    \n",
    "    def f(self):\n",
    "        return self.g() + self.h()"
   ]
  },
  {
   "cell_type": "code",
   "execution_count": 7,
   "metadata": {},
   "outputs": [],
   "source": [
    "class Map:\n",
    "    def __init__(self, x, y):\n",
    "        self.width = x\n",
    "        self.length = y"
   ]
  },
  {
   "cell_type": "code",
   "execution_count": 8,
   "metadata": {},
   "outputs": [],
   "source": [
    "def init_game(file_name):\n",
    "    test = read_file(file_name)\n",
    "    universal_w = int(test[0][0])\n",
    "    universal_l = int(test[0][1])\n",
    "    candies = set()\n",
    "    \n",
    "    my_map = Map(universal_w, universal_l)\n",
    "    snake = Snake(int(test[1][0]), int(test[1][1]))\n",
    "    \n",
    "    for i in range(3, 3 + int(test[2][0])):\n",
    "        candies.add(Candy(int(test[i][0]), int(test[i][1]), 'c', int(test[i][2])))\n",
    "    return (snake, candies, my_map)"
   ]
  },
  {
   "cell_type": "markdown",
   "metadata": {},
   "source": [
    "## BFS\n",
    "In this algorithm, we move forward level by level.\n",
    "In this way, we first add a node with initial state to the frontier set and add the same to the explored set, and then add all its children to the frontier set if they are not in frontier set or explored set. Then, in order to move forward level by level, we add the first member of frontier set to explored set and continue the previous steps. Whenever the node selected for expansion meets the conditions of the goal state, we get the answer."
   ]
  },
  {
   "cell_type": "code",
   "execution_count": 33,
   "metadata": {},
   "outputs": [],
   "source": [
    "def bfs(snake, candies):\n",
    "    \n",
    "    game = Game(snake, candies, None, '')\n",
    "    \n",
    "    states = 1\n",
    "    unique_states = 1\n",
    "    \n",
    "    queue = []\n",
    "    h_queue = set()\n",
    "    h_visited = set()\n",
    "    \n",
    "    queue.append(game)\n",
    "    h_queue.add(game.simple_hash())\n",
    "    \n",
    "    \n",
    "    while True:\n",
    "        game = queue.pop(0)\n",
    "        if (game.check_final() or (len(queue) == 0 and unique_states > 1)):\n",
    "                return game, states, unique_states\n",
    "            \n",
    "        h_visited.add(game.simple_hash())\n",
    "        scions = game.generate_scions()\n",
    "        for scion in scions:\n",
    "            this_hash = scion.simple_hash()\n",
    "            if (not (this_hash in h_visited) and not (this_hash in h_queue)):\n",
    "                states += 1\n",
    "                unique_states += 1\n",
    "                queue.append(scion)\n",
    "                h_queue.add(this_hash)\n",
    "            else:\n",
    "                states += 1"
   ]
  },
  {
   "cell_type": "markdown",
   "metadata": {},
   "source": [
    "## BFS chart"
   ]
  },
  {
   "cell_type": "code",
   "execution_count": 34,
   "metadata": {},
   "outputs": [
    {
     "data": {
      "text/html": [
       "<div>\n",
       "<style scoped>\n",
       "    .dataframe tbody tr th:only-of-type {\n",
       "        vertical-align: middle;\n",
       "    }\n",
       "\n",
       "    .dataframe tbody tr th {\n",
       "        vertical-align: top;\n",
       "    }\n",
       "\n",
       "    .dataframe thead th {\n",
       "        text-align: right;\n",
       "    }\n",
       "</style>\n",
       "<table border=\"1\" class=\"dataframe\">\n",
       "  <thead>\n",
       "    <tr style=\"text-align: right;\">\n",
       "      <th></th>\n",
       "      <th>Moves</th>\n",
       "      <th>Total states</th>\n",
       "      <th>Unique states</th>\n",
       "      <th>Runtime</th>\n",
       "      <th>Path Cost</th>\n",
       "    </tr>\n",
       "  </thead>\n",
       "  <tbody>\n",
       "    <tr>\n",
       "      <th>test 1</th>\n",
       "      <td>LDRRDDRRDRDD</td>\n",
       "      <td>13018</td>\n",
       "      <td>5747</td>\n",
       "      <td>0.170595</td>\n",
       "      <td>12</td>\n",
       "    </tr>\n",
       "    <tr>\n",
       "      <th>test 2</th>\n",
       "      <td>RULLDLUUUULLLLU</td>\n",
       "      <td>116674</td>\n",
       "      <td>51750</td>\n",
       "      <td>1.79519</td>\n",
       "      <td>15</td>\n",
       "    </tr>\n",
       "    <tr>\n",
       "      <th>test 3</th>\n",
       "      <td>RURDDDRRDRRDDRURRDLLLLLUU</td>\n",
       "      <td>536081</td>\n",
       "      <td>234039</td>\n",
       "      <td>13.1468</td>\n",
       "      <td>25</td>\n",
       "    </tr>\n",
       "  </tbody>\n",
       "</table>\n",
       "</div>"
      ],
      "text/plain": [
       "                            Moves Total states Unique states   Runtime  \\\n",
       "test 1               LDRRDDRRDRDD        13018          5747  0.170595   \n",
       "test 2            RULLDLUUUULLLLU       116674         51750   1.79519   \n",
       "test 3  RURDDDRRDRRDDRURRDLLLLLUU       536081        234039   13.1468   \n",
       "\n",
       "       Path Cost  \n",
       "test 1        12  \n",
       "test 2        15  \n",
       "test 3        25  "
      ]
     },
     "execution_count": 34,
     "metadata": {},
     "output_type": "execute_result"
    }
   ],
   "source": [
    "import time\n",
    "import pandas as pd\n",
    "bfs_df = pd.DataFrame(columns = ['Moves', 'Total states', 'Unique states', 'Runtime', 'Path Cost'])\n",
    "bfs_df['Moves'] = ['', '', '']\n",
    "bfs_df['Total states'] = ['', '', '']\n",
    "bfs_df['Unique states'] = ['', '', '']\n",
    "bfs_df['Runtime'] = ['', '', '']\n",
    "bfs_df['Path Cost'] = ['', '', '']\n",
    "bfs_df.index = ['test 1', 'test 2', 'test 3']\n",
    "for i in range(1,4):\n",
    "    file_name = 'test' + str(i) + '.txt'\n",
    "    snake , candies, my_map = init_game(file_name)\n",
    "    \n",
    "    \n",
    "    start = time.time()\n",
    "    game, states, unique_states = bfs(snake, candies)\n",
    "    end = time.time()    \n",
    "    \n",
    "    bfs_df['Moves'][i-1] = game.path\n",
    "    bfs_df['Total states'][i-1] = states\n",
    "    bfs_df['Unique states'][i-1] = unique_states\n",
    "    bfs_df['Runtime'][i-1] = end - start\n",
    "    bfs_df['Path Cost'][i-1] = len(bfs_df['Moves'][i-1])\n",
    "\n",
    "bfs_df"
   ]
  },
  {
   "cell_type": "markdown",
   "metadata": {},
   "source": [
    "## IDS\n",
    "In this algorithm, we test the DFS with different depth limits, and if we do not get the answer, we increase the depth by one again.\n",
    "To implement the DFS algorithm itself, we start with a node that has initial state. We add the children of the node to the frontier set if they are not in the frontier and explored sets, and also if it's path_cost is not more than depth. Each time we select the last element in the F set to select the new node."
   ]
  },
  {
   "cell_type": "code",
   "execution_count": 9,
   "metadata": {},
   "outputs": [],
   "source": [
    "def dfs(depth, snake, candies):\n",
    "\n",
    "    game = Game(snake, candies, None, '')\n",
    "    \n",
    "    states = 1\n",
    "    unique_states = 1\n",
    "    \n",
    "    queue = []\n",
    "    h_queue = set()\n",
    "    h_visited = set()\n",
    "    \n",
    "    queue.append(game)\n",
    "    h_queue.add(game.simple_hash())\n",
    "    \n",
    "    while True:\n",
    "        \n",
    "        if (len(queue) == 0):\n",
    "            return [None, states, unique_states]\n",
    "        else:\n",
    "            game = queue.pop(0)\n",
    "            if (game.check_final()):\n",
    "                return [game, states, unique_states]\n",
    "            h_visited.add(game.complex_hash())\n",
    "            scions = game.generate_scions()\n",
    "            for scion in scions:\n",
    "                this_hash = scion.complex_hash()\n",
    "                scion_depth = len(scion.path)\n",
    "                if (not (this_hash in h_visited) and not (this_hash in h_queue) and not (scion_depth > depth)):\n",
    "                    states += 1\n",
    "                    unique_states += 1\n",
    "                    queue.append(scion)\n",
    "                    h_queue.add(this_hash)\n",
    "                else:\n",
    "                    states += 1\n",
    "\n",
    "def ids(snake, candies):\n",
    "    depth = 0\n",
    "    states_sum = 0\n",
    "    unique_states_sum = 0\n",
    "    for i in range(50):\n",
    "        output = dfs(i, snake, candies)\n",
    "#         node, states, unique_states = dfs(i, snake, candies)\n",
    "        states_sum += output[1]\n",
    "        unique_states_sum += output[2]\n",
    "        if output[0]:\n",
    "            return output[0], output[1], output[2]\n",
    "    \n",
    "    return None, states_sum, unique_states_sum"
   ]
  },
  {
   "cell_type": "code",
   "execution_count": 31,
   "metadata": {},
   "outputs": [],
   "source": []
  },
  {
   "cell_type": "markdown",
   "metadata": {},
   "source": [
    "## IDS chart"
   ]
  },
  {
   "cell_type": "code",
   "execution_count": null,
   "metadata": {},
   "outputs": [],
   "source": [
    "import time\n",
    "import pandas as pd\n",
    "\n",
    "ids_df = pd.DataFrame(columns = ['Moves', 'Total states', 'Unique states', 'Runtime', 'Path Cost'])\n",
    "ids_df['Moves'] = ['', '', '']\n",
    "ids_df['Total states'] = ['', '', '']\n",
    "ids_df['Unique states'] = ['', '', '']\n",
    "ids_df['Runtime'] = ['', '', '']\n",
    "ids_df['Path Cost'] = ['', '', '']\n",
    "ids_df.index = ['test 1', 'test 2', 'test 3']\n",
    "\n",
    "for i in range(1,4):\n",
    "    file_name = 'test' + str(i) + '.txt'\n",
    "    snake , candies, my_map = init_game(file_name)\n",
    "    \n",
    "    start = time.time()\n",
    "    game, states, unique_states = ids(snake, candies)\n",
    "    end = time.time()\n",
    "    \n",
    "    ids_df['Moves'][i-1] = game.path\n",
    "    ids_df['Total states'][i-1] = states\n",
    "    ids_df['Unique states'][i-1] = unique_states\n",
    "    ids_df['Runtime'][i-1] = end - start\n",
    "    ids_df['Path Cost'][i-1] = len(ids_df['Moves'][i-1])\n",
    "\n",
    "ids_df"
   ]
  },
  {
   "cell_type": "markdown",
   "metadata": {},
   "source": [
    "## A*\n",
    "This type of search is informed in the sense that each time we select a node, the sum of the distance traveled so far and the prediction we have of its future direction is the smallest.\n"
   ]
  },
  {
   "cell_type": "code",
   "execution_count": null,
   "metadata": {},
   "outputs": [],
   "source": [
    "from heapq import heappush, heappop\n",
    "from time import time\n",
    "\n",
    "def a_star():\n",
    "    start = time()\n",
    "    \n",
    "    initial_state = State(initial_snake, initial_seeds)\n",
    "    initial_node = Node(initial_state, None, 0)\n",
    "    \n",
    "    states_num = 1\n",
    "    seperate_states_num = 1\n",
    "    \n",
    "    frontier = []\n",
    "    explored_hash = set()\n",
    "    heappush(frontier, initial_node)\n",
    "    frontier_hash = dict()\n",
    "    frontier_hash[initial_node.hash_without_cost()] = initial_node.path_cost\n",
    "\n",
    "    if initial_state.is_goal():\n",
    "        return initial_node, states_num, seperate_states_num\n",
    "    \n",
    "    while True :\n",
    "        if len(frontier) == 0: \n",
    "            return None, time() - start, states_num, seperate_states_num\n",
    "        node = heappop(frontier)\n",
    "        explored_hash.add(node.hash_without_cost())\n",
    "        if node.state.is_goal():\n",
    "                return node, time() - start, states_num, seperate_states_num\n",
    "        for child in node.get_children():\n",
    "            states_num += 1\n",
    "            child_hash = child.hash_without_cost()\n",
    "            if child_hash in explored_hash or (child_hash in frontier_hash and child.path_cost >= frontier_hash[child_hash]):\n",
    "                continue\n",
    "            seperate_states_num += 1\n",
    "            heappush(frontier, child)\n",
    "            frontier_hash[child.hash_without_cost()] = child.path_cost"
   ]
  },
  {
   "cell_type": "markdown",
   "metadata": {},
   "source": [
    "### first heuristic\n",
    "Here we consider the h function to return the total number of seeds.\n",
    "This is a admissible heuristic because with each move of the snake, in the best case, a seed is eaten, so the snake must move at least the number of remaining seeds to reach the goal state, and the heuristic value is always less than the real value.\n",
    "This is a consistent heuristic because in each move from one node to another node, the seed numbers does not decrease or decreases by one unit, so in any case between two neighbor nodes, h(parent) is more than or equal to h(child)."
   ]
  },
  {
   "cell_type": "markdown",
   "metadata": {},
   "source": [
    "#### Test1"
   ]
  },
  {
   "cell_type": "code",
   "execution_count": null,
   "metadata": {},
   "outputs": [],
   "source": [
    "node, time, states_num, seperate_states_num = a_star()\n",
    "print(time)\n",
    "heads = node.get_path()\n",
    "print(node.path_cost)\n",
    "print(states_num)\n",
    "print(seperate_states_num)\n",
    "showDirection(heads)"
   ]
  },
  {
   "cell_type": "markdown",
   "metadata": {},
   "source": [
    "#### Test2"
   ]
  },
  {
   "cell_type": "code",
   "execution_count": null,
   "metadata": {},
   "outputs": [],
   "source": [
    "node, time, states_num, seperate_states_num = a_star()\n",
    "print(time)\n",
    "heads = node.get_path()\n",
    "print(node.path_cost)\n",
    "print(states_num)\n",
    "print(seperate_states_num)\n",
    "showDirection(heads)"
   ]
  },
  {
   "cell_type": "markdown",
   "metadata": {},
   "source": [
    "#### Test3"
   ]
  },
  {
   "cell_type": "code",
   "execution_count": null,
   "metadata": {},
   "outputs": [],
   "source": [
    "node, time, states_num, seperate_states_num = a_star()\n",
    "print(time)\n",
    "heads = node.get_path()\n",
    "print(node.path_cost)\n",
    "print(states_num)\n",
    "print(seperate_states_num)\n",
    "showDirection(heads)"
   ]
  },
  {
   "cell_type": "markdown",
   "metadata": {},
   "source": [
    "### second heuristic\n",
    "Here we consider the h function to return the total score of seeds remaining for each node.\n",
    "This is a admissible heuristic because with each move of the snake, in the best case, a one-point seed is eaten, so the snake must move at least the number of remaining seeds to reach the goal state, and the heuristic value is always less than the real value.\n",
    "This is a consistent heuristic because in each move from one node to another node, the seed score does not decrease or decreases by one unit, so in any case between two neighbor nodes, h(parent) is more than or equal to h(child)."
   ]
  },
  {
   "cell_type": "markdown",
   "metadata": {},
   "source": [
    "#### Test1"
   ]
  },
  {
   "cell_type": "code",
   "execution_count": null,
   "metadata": {},
   "outputs": [],
   "source": [
    "node, time, states_num, seperate_states_num = a_star()\n",
    "print(time)\n",
    "heads = node.get_path()\n",
    "print(node.path_cost)\n",
    "print(states_num)\n",
    "print(seperate_states_num)\n",
    "showDirection(heads)"
   ]
  },
  {
   "cell_type": "markdown",
   "metadata": {},
   "source": [
    "#### Test2"
   ]
  },
  {
   "cell_type": "code",
   "execution_count": null,
   "metadata": {},
   "outputs": [],
   "source": [
    "node, time, states_num, seperate_states_num = a_star()\n",
    "print(time)\n",
    "heads = node.get_path()\n",
    "print(node.path_cost)\n",
    "print(states_num)\n",
    "print(seperate_states_num)\n",
    "showDirection(heads)"
   ]
  },
  {
   "cell_type": "markdown",
   "metadata": {},
   "source": [
    "#### Test3"
   ]
  },
  {
   "cell_type": "code",
   "execution_count": null,
   "metadata": {},
   "outputs": [],
   "source": [
    "node, time, states_num, seperate_states_num = a_star()\n",
    "print(time)\n",
    "heads = node.get_path()\n",
    "print(node.path_cost)\n",
    "print(states_num)\n",
    "print(seperate_states_num)\n",
    "showDirection(heads)"
   ]
  },
  {
   "cell_type": "markdown",
   "metadata": {},
   "source": [
    "## Weighted A*\n",
    "\n",
    "When the heuristic is admissble, we are sure that its value is less than the real value. By multiplying it, the heuristic value gets closer to the real number and the result is obtained in a shorter time.\n",
    "But if this multiplication causes the answer to no longer be admissble, it may not give us the optimal path."
   ]
  },
  {
   "cell_type": "markdown",
   "metadata": {},
   "source": [
    "#### alpha = 1.8"
   ]
  },
  {
   "cell_type": "markdown",
   "metadata": {},
   "source": [
    "#### Test1"
   ]
  },
  {
   "cell_type": "code",
   "execution_count": null,
   "metadata": {},
   "outputs": [],
   "source": [
    "node, time, states_num, seperate_states_num = a_star()\n",
    "print(time)\n",
    "heads = node.get_path()\n",
    "print(node.path_cost)\n",
    "print(states_num)\n",
    "print(seperate_states_num)\n",
    "showDirection(heads)"
   ]
  },
  {
   "cell_type": "markdown",
   "metadata": {},
   "source": [
    "#### Test2"
   ]
  },
  {
   "cell_type": "code",
   "execution_count": null,
   "metadata": {},
   "outputs": [],
   "source": [
    "node, time, states_num, seperate_states_num = a_star()\n",
    "print(time)\n",
    "heads = node.get_path()\n",
    "print(node.path_cost)\n",
    "print(states_num)\n",
    "print(seperate_states_num)\n",
    "showDirection(heads)"
   ]
  },
  {
   "cell_type": "markdown",
   "metadata": {},
   "source": [
    "#### Test3"
   ]
  },
  {
   "cell_type": "code",
   "execution_count": null,
   "metadata": {},
   "outputs": [],
   "source": [
    "node, time, states_num, seperate_states_num = a_star()\n",
    "print(time)\n",
    "heads = node.get_path()\n",
    "print(node.path_cost)\n",
    "print(states_num)\n",
    "print(seperate_states_num)\n",
    "showDirection(heads)"
   ]
  },
  {
   "cell_type": "markdown",
   "metadata": {},
   "source": [
    "#### alpha = 4.8"
   ]
  },
  {
   "cell_type": "markdown",
   "metadata": {},
   "source": [
    "#### Test1"
   ]
  },
  {
   "cell_type": "code",
   "execution_count": null,
   "metadata": {},
   "outputs": [],
   "source": [
    "node, time, states_num, seperate_states_num = a_star()\n",
    "print(time)\n",
    "heads = node.get_path()\n",
    "print(node.path_cost)\n",
    "print(states_num)\n",
    "print(seperate_states_num)\n",
    "showDirection(heads)"
   ]
  },
  {
   "cell_type": "markdown",
   "metadata": {},
   "source": [
    "#### Test2"
   ]
  },
  {
   "cell_type": "code",
   "execution_count": null,
   "metadata": {},
   "outputs": [],
   "source": [
    "node, time, states_num, seperate_states_num = a_star()\n",
    "print(time)\n",
    "heads = node.get_path()\n",
    "print(node.path_cost)\n",
    "print(states_num)\n",
    "print(seperate_states_num)\n",
    "showDirection(heads)"
   ]
  },
  {
   "cell_type": "markdown",
   "metadata": {},
   "source": [
    "#### Test3"
   ]
  },
  {
   "cell_type": "code",
   "execution_count": null,
   "metadata": {},
   "outputs": [],
   "source": [
    "node, time, states_num, seperate_states_num = a_star()\n",
    "print(time)\n",
    "heads = node.get_path()\n",
    "print(node.path_cost)\n",
    "print(states_num)\n",
    "print(seperate_states_num)\n",
    "showDirection(heads)"
   ]
  },
  {
   "cell_type": "markdown",
   "metadata": {},
   "source": [
    "## Differences"
   ]
  },
  {
   "cell_type": "markdown",
   "metadata": {},
   "source": [
    "#### Completness and optimality\n",
    "All of this algorithms are complete and optimal.\n",
    "\n",
    "#### Time complexity\n",
    "BFS runs in O($ b^d $) where d is depth of solution.\n",
    "\n",
    "IDS runs in O($ b^d $) too but it's a bit slower than BFS because it runs DFS sunbroutines many times.\n",
    "\n",
    "A* runs in O(Number of nodes for which f(n) ≤ C* (exponential))\n",
    "\n",
    "#### Space Complexity\n",
    "BFS gets O($ b^d $) space because it saves all the visited and frontier nodes till goal node.\n",
    "\n",
    "IDS gets O( bd ) space because it just saves frontier nodes for one branch. \n",
    "\n",
    "A* get exponential space. "
   ]
  },
  {
   "cell_type": "markdown",
   "metadata": {},
   "source": [
    "## Result table\n",
    "\n",
    "#### Test1\n",
    "\n",
    "| algorithm | path cost | path | number of states visited | number of separate states visited | time\n",
    "| --- | --- | --- | --- | --- | --- |\n",
    "| BFS | 12 | L D R R D D R R D R D D | 13018 | 5747 | 0.31 |\n",
    "| IDS | 12 | D L D D R R R D R D D R | 90962 | 29974 | 1.68 |\n",
    "| A* h1 | 12 | D L L U U L U L L L U U | 4495 | 2500 | 0.12 |\n",
    "| A* h2 | 12 | D L U U L L U L L L U U  | 4235 | 2651 | 0.13 |\n",
    "| weighted A* 1 | 12 | D L U U L L U L L L U U | 3805 | 2196 | 0.11 |\n",
    "| weighted A* 2 | 16 | U L L L U L L U U L D D L U U R | 4217 | 1873 | 0.115 |\n",
    "\n",
    "\n",
    "#### Test2\n",
    "\n",
    "| algorithm | path cost | path | number of states visited | number of separate states visited | time\n",
    "| --- | --- | --- | --- | --- | --- |\n",
    "| BFS | 15 | R U L L D L U U U U L L L L U | 116674 | 51750 | 3.45 |\n",
    "| IDS | 15 | U R D L L U U U U L U L L L L | 786582 | 264268 | 15.64 |\n",
    "| A* h1 | 15 | U R D L L U U U U L L U L L L | 41505 | 22004 | 1.5 |\n",
    "| A* h2 | 15 | U R D L L U U U U L L U L L L | 41505 | 22004 | 2.1 |\n",
    "| weighted A* 1 | 12 | D L U U L L U L L L U U | 3805 | 2196 | 0.79 |\n",
    "| weighted A* 2 | 17 | U L D R R U L L U U L U L L L U L | 3283 | 2300 | 0.13 |\n",
    "\n",
    "\n",
    "#### Test3\n",
    "\n",
    "| algorithm | path cost | path | number of states visited | number of separate states visited | time\n",
    "| --- | --- | --- | --- | --- | --- |\n",
    "| BFS | 25 | R U R D D D R R D R R D D R U R R D L L L L L U U | 536081 | 234039 | 19.34 |\n",
    "| IDS | 25 | U R D D D R D R R D D R R R U R R D L L L U U L L | 4849363 | 1641932 | 99.02 |\n",
    "| A* h1 | 25 | U R D D D R R R D R D D R R R R U L L D L L U L U  | 239891 | 115055 | 9.82 |\n",
    "| A* h2 | 25 | U R D D D R D R R R R D D R U R R D L L L U L U L | 199531 | 99034 | 9.83 |\n",
    "| weighted A* 1 | 25 | U R D D D R R D R R D D R R U R R D L L L L U U L | 172466 | 84486 | 6.8 |\n",
    "| weighted A* 2 | 26 | R U R D D D R R D R U L D D D R R R U R R D D L U L | 39208 | 21576 | 1.36 |"
   ]
  },
  {
   "cell_type": "code",
   "execution_count": null,
   "metadata": {},
   "outputs": [],
   "source": []
  }
 ],
 "metadata": {
  "kernelspec": {
   "display_name": "Python 3",
   "language": "python",
   "name": "python3"
  },
  "language_info": {
   "codemirror_mode": {
    "name": "ipython",
    "version": 3
   },
   "file_extension": ".py",
   "mimetype": "text/x-python",
   "name": "python",
   "nbconvert_exporter": "python",
   "pygments_lexer": "ipython3",
   "version": "3.7.6"
  }
 },
 "nbformat": 4,
 "nbformat_minor": 4
}
